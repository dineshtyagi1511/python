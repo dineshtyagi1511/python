{
 "cells": [
  {
   "cell_type": "markdown",
   "id": "a1b24b06-fd36-4be9-8b0f-6a85161d89f7",
   "metadata": {},
   "source": [
    "## list\n",
    ". list are ordered, mutable collection of items\n",
    "\n",
    ". they can contain items of different data types\n",
    "\n",
    "1. introduction to list\n",
    "2. creating list\n",
    "3. acessing list elements\n",
    "4. modifying list elements\n",
    "5. list methods\n",
    "6. slicing lists\n",
    "7. iterating over lists\n",
    "8. list comprehensions\n",
    "9. nested lists\n",
    "10. practical example and common error"
   ]
  },
  {
   "cell_type": "code",
   "execution_count": 6,
   "id": "bf6b7296-d684-442e-b15a-5cf022bee98b",
   "metadata": {},
   "outputs": [],
   "source": [
    "##creating list\n",
    "##You can create a list by placing items inside square brackets [], separated by commas.\n",
    "names =[\"krish\",5,\"keshav\"]\n"
   ]
  },
  {
   "cell_type": "code",
   "execution_count": 2,
   "id": "65b20fa2-e7b7-4721-b1a9-dd8b3e48f163",
   "metadata": {},
   "outputs": [
    {
     "name": "stdout",
     "output_type": "stream",
     "text": [
      "['krish', 5, 'keshav']\n"
     ]
    }
   ],
   "source": [
    "print(names)"
   ]
  },
  {
   "cell_type": "code",
   "execution_count": 3,
   "id": "21e6bf8f-6058-402c-8cd5-9150c30ab4f9",
   "metadata": {},
   "outputs": [],
   "source": [
    "##Accessing Elements:\n",
    "##You can access list elements using their index. The first element has index 0.\n",
    "\n",
    "fruits =[\"appple\",\"bannana\",\"kivi\",\"cherry\"]"
   ]
  },
  {
   "cell_type": "code",
   "execution_count": 5,
   "id": "39aa1bbe-ab93-42e7-941a-ce3b82b8dee9",
   "metadata": {},
   "outputs": [
    {
     "name": "stdout",
     "output_type": "stream",
     "text": [
      "appple\n"
     ]
    }
   ],
   "source": [
    "print(fruits[0])"
   ]
  },
  {
   "cell_type": "code",
   "execution_count": 7,
   "id": "a3cd0cf7-6fe6-423e-995d-c62e2e8440e5",
   "metadata": {},
   "outputs": [
    {
     "data": {
      "text/plain": [
       "['bannana', 'kivi']"
      ]
     },
     "execution_count": 7,
     "metadata": {},
     "output_type": "execute_result"
    }
   ],
   "source": [
    "fruits[1:3]"
   ]
  },
  {
   "cell_type": "code",
   "execution_count": 8,
   "id": "12bd327e-6f92-46fa-a05a-12c3b44b22e7",
   "metadata": {},
   "outputs": [],
   "source": [
    "##modifying list elements:\n",
    "##Modifying a List: Since lists are mutable, you can modify them after creation\n",
    "fruits[1]=\"watermelon\""
   ]
  },
  {
   "cell_type": "code",
   "execution_count": 9,
   "id": "c7adf226-a571-45e4-8645-1084feb765dd",
   "metadata": {},
   "outputs": [
    {
     "name": "stdout",
     "output_type": "stream",
     "text": [
      "['appple', 'watermelon', 'kivi', 'cherry']\n"
     ]
    }
   ],
   "source": [
    "print(fruits)"
   ]
  },
  {
   "cell_type": "code",
   "execution_count": 11,
   "id": "c2d45333-8595-4026-b134-c2240b06269b",
   "metadata": {},
   "outputs": [],
   "source": [
    "##Adding Elements:\n",
    "## append() adds a single element to the end of the list.\n",
    "## extend() adds multiple elements to the list.\n",
    "## insert() adds an element at a specific position.\n",
    "\n",
    "fruits.append(\"guava\")\n",
    "fruits.insert(1,\"pomegranate\")"
   ]
  },
  {
   "cell_type": "code",
   "execution_count": 12,
   "id": "618dc0d8-f81b-478f-8c29-902b82b7f3af",
   "metadata": {},
   "outputs": [
    {
     "data": {
      "text/plain": [
       "['appple', 'pomegranate', 'watermelon', 'kivi', 'cherry', 'guava', 'guava']"
      ]
     },
     "execution_count": 12,
     "metadata": {},
     "output_type": "execute_result"
    }
   ],
   "source": [
    "fruits"
   ]
  },
  {
   "cell_type": "code",
   "execution_count": null,
   "id": "a9aa4001-69c8-4c2a-a93c-5e7f9fce62c7",
   "metadata": {},
   "outputs": [],
   "source": [
    "##Removing Elements:\n",
    "##remove() removes the first occurrence of a value.\n",
    "##pop() removes an element at a specific index or the last element if no index is specified.\n",
    "##clear() removes all elements from the list\n",
    "\n"
   ]
  },
  {
   "cell_type": "code",
   "execution_count": 13,
   "id": "b764a744-e205-4cf3-85d4-70f93b49cc22",
   "metadata": {},
   "outputs": [],
   "source": [
    "fruits.remove(\"appple\")  "
   ]
  },
  {
   "cell_type": "code",
   "execution_count": 15,
   "id": "71d93b9b-64c5-48bf-8a52-8b94856ff589",
   "metadata": {},
   "outputs": [
    {
     "data": {
      "text/plain": [
       "'guava'"
      ]
     },
     "execution_count": 15,
     "metadata": {},
     "output_type": "execute_result"
    }
   ],
   "source": [
    "fruits.pop() # Removes the last element"
   ]
  },
  {
   "cell_type": "code",
   "execution_count": 16,
   "id": "35279d73-9e99-49da-b764-c6c3e223bc97",
   "metadata": {},
   "outputs": [
    {
     "data": {
      "text/plain": [
       "'pomegranate'"
      ]
     },
     "execution_count": 16,
     "metadata": {},
     "output_type": "execute_result"
    }
   ],
   "source": [
    "fruits.pop(0) # Removes element at index 1"
   ]
  },
  {
   "cell_type": "code",
   "execution_count": 21,
   "id": "7e69b272-8cc2-4f31-a50f-6544997dfa5b",
   "metadata": {},
   "outputs": [],
   "source": [
    "fruits.clear() # Removes all elements from the list"
   ]
  },
  {
   "cell_type": "code",
   "execution_count": 20,
   "id": "8138625c-9e54-4900-81d3-c2ad27ab007d",
   "metadata": {},
   "outputs": [
    {
     "data": {
      "text/plain": [
       "[]"
      ]
     },
     "execution_count": 20,
     "metadata": {},
     "output_type": "execute_result"
    }
   ],
   "source": [
    "fruits"
   ]
  },
  {
   "cell_type": "code",
   "execution_count": 22,
   "id": "3583ff75-4e63-4bcd-a0cf-dc86667af442",
   "metadata": {},
   "outputs": [],
   "source": [
    "fruits =[\"appple\",\"bannana\",\"kivi\",\"cherry\"]"
   ]
  },
  {
   "cell_type": "code",
   "execution_count": 23,
   "id": "fe28ba53-a567-41bc-8975-d80911af60b9",
   "metadata": {},
   "outputs": [],
   "source": [
    "fruits.sort() ##sort list in ascending order "
   ]
  },
  {
   "cell_type": "code",
   "execution_count": 24,
   "id": "c3cf95ed-c728-4707-8865-7750c53d73bd",
   "metadata": {},
   "outputs": [],
   "source": [
    "fruits.reverse() ##reverse  the list"
   ]
  },
  {
   "cell_type": "code",
   "execution_count": 25,
   "id": "2c78684f-f4c6-43a5-8e9b-3c3b30c49943",
   "metadata": {},
   "outputs": [
    {
     "name": "stdout",
     "output_type": "stream",
     "text": [
      "['cherry', 'bannana', 'appple']\n",
      "['kivi', 'cherry', 'bannana']\n",
      "['appple']\n"
     ]
    }
   ],
   "source": [
    "##Slicing a List:\n",
    "##You can get a sublist by slicing the list\n",
    "## double colon :: is step size \n",
    "\n",
    "print(fruits[1:4])  # Output:  (from index 1 to 3)\n",
    "print(fruits[:3])  # Output:  (from the start to index 2)\n",
    "print(fruits[3:])  # Output:  (from index 3 to the end)\n",
    "\n"
   ]
  },
  {
   "cell_type": "code",
   "execution_count": 26,
   "id": "a11b48f9-3d64-477c-8a64-30536e8b9c73",
   "metadata": {},
   "outputs": [
    {
     "name": "stdout",
     "output_type": "stream",
     "text": [
      "10\n",
      "20\n",
      "30\n",
      "40\n",
      "50\n"
     ]
    }
   ],
   "source": [
    "## list iteration \n",
    "##1\n",
    "##You can iterate over a list using a for loop:\n",
    "\n",
    "my_list = [10, 20, 30, 40, 50]\n",
    "\n",
    "for item in my_list:\n",
    "    print(item)\n"
   ]
  },
  {
   "cell_type": "code",
   "execution_count": 27,
   "id": "394e63fd-cfd0-41a3-a41e-cae268b66dfa",
   "metadata": {},
   "outputs": [
    {
     "name": "stdout",
     "output_type": "stream",
     "text": [
      "Index: 0, Value: 10\n",
      "Index: 1, Value: 20\n",
      "Index: 2, Value: 30\n",
      "Index: 3, Value: 40\n",
      "Index: 4, Value: 50\n"
     ]
    }
   ],
   "source": [
    "##2.\n",
    "##Using for Loop with Index\n",
    "##You can also access both the index and the element using range() and len():\n",
    "\n",
    "for i in range(len(my_list)):\n",
    "    print(f\"Index: {i}, Value: {my_list[i]}\")\n"
   ]
  },
  {
   "cell_type": "code",
   "execution_count": 28,
   "id": "04c53ee1-b041-421a-87d8-438e31c8b7b5",
   "metadata": {},
   "outputs": [
    {
     "name": "stdout",
     "output_type": "stream",
     "text": [
      "Index: 0, Value: 10\n",
      "Index: 1, Value: 20\n",
      "Index: 2, Value: 30\n",
      "Index: 3, Value: 40\n",
      "Index: 4, Value: 50\n"
     ]
    }
   ],
   "source": [
    "##Using enumerate()\n",
    "##The enumerate() function provides both the index and the value directly.\n",
    "\n",
    "for index, value in enumerate(my_list):\n",
    "    print(f\"Index: {index}, Value: {value}\")\n"
   ]
  },
  {
   "cell_type": "code",
   "execution_count": 30,
   "id": "296d2e0a-ca23-4ec2-bc35-88fd558010f0",
   "metadata": {},
   "outputs": [
    {
     "name": "stdout",
     "output_type": "stream",
     "text": [
      "[100, 400, 900, 1600, 2500]\n"
     ]
    }
   ],
   "source": [
    "##5\n",
    "## Using List Comprehension\n",
    "##You can also iterate over a list and apply some operation using list comprehension\n",
    "squares = [x**2 for x in my_list]\n",
    "print(squares)\n",
    "\n",
    "### basic syntax               [expression for item in iterable]\n",
    "## with conditional logic      [expression for item in iterable if condition]\n",
    "## nested  list comphrehension  [expression for item1 in iterable1 for item2 in iterable  ]"
   ]
  },
  {
   "cell_type": "code",
   "execution_count": 31,
   "id": "7edbcc3c-51cf-4a6a-a5cd-62e622e56fda",
   "metadata": {},
   "outputs": [
    {
     "name": "stdout",
     "output_type": "stream",
     "text": [
      "[0, 1, 4, 9, 16, 25, 36, 49, 64, 81]\n"
     ]
    }
   ],
   "source": [
    "### basic list comphrehension\n",
    "\n",
    "square = [num**2 for num in range(10)]\n",
    "print(square)"
   ]
  },
  {
   "cell_type": "code",
   "execution_count": 35,
   "id": "2a90bed4-c195-472d-bb8b-94c9f5a4fb61",
   "metadata": {},
   "outputs": [
    {
     "name": "stdout",
     "output_type": "stream",
     "text": [
      "[0, 2, 4, 6, 8]\n"
     ]
    }
   ],
   "source": [
    "## list comphrehension with condition\n",
    "lst = []\n",
    "for i in range(10):\n",
    "    if i % 2 == 0:\n",
    "        lst.append(i)\n",
    "\n",
    "print(lst)\n",
    " \n",
    "\n"
   ]
  },
  {
   "cell_type": "code",
   "execution_count": 36,
   "id": "999ad3c4-50c7-4a17-99bc-837fc4ebea6d",
   "metadata": {},
   "outputs": [],
   "source": [
    "### nested list comphrehension \n",
    "lst1 = [1,2,3,4]\n",
    "lst2 = ['a','b','c']\n",
    "pair= [[i,j] for i in lst1 for j in lst2]"
   ]
  },
  {
   "cell_type": "code",
   "execution_count": 37,
   "id": "87a6d846-4b94-49ef-aac8-02933ab3c447",
   "metadata": {},
   "outputs": [
    {
     "name": "stdout",
     "output_type": "stream",
     "text": [
      "[[1, 'a'], [1, 'b'], [1, 'c'], [2, 'a'], [2, 'b'], [2, 'c'], [3, 'a'], [3, 'b'], [3, 'c'], [4, 'a'], [4, 'b'], [4, 'c']]\n"
     ]
    }
   ],
   "source": [
    "print(pair)"
   ]
  },
  {
   "cell_type": "code",
   "execution_count": 39,
   "id": "8260fcd4-f817-484a-a941-cae5935a65aa",
   "metadata": {},
   "outputs": [
    {
     "name": "stdout",
     "output_type": "stream",
     "text": [
      "[5, 6, 5]\n"
     ]
    }
   ],
   "source": [
    "## list comphrehension with function calls\n",
    "\n",
    "words = [\"heelo\", \"keshav\", \"tyagi\"]\n",
    "lengths = [len(word) for word in words]\n",
    "print(lengths)\n"
   ]
  },
  {
   "cell_type": "markdown",
   "id": "ca3151a2-0af3-4500-9ed7-794b8e48900f",
   "metadata": {},
   "source": [
    "## tupels\n",
    "\n",
    "1. introduction to tuples\n",
    "2. creating tuples\n",
    "3. accessing tuples elements\n",
    "4. tuple operations\n",
    "5. immutable nature of tuples\n",
    "6. tuple moments\n",
    "7. packaging and unpackaging tuples\n",
    "8. nested tuples\n",
    "9. practical examples and common errors"
   ]
  },
  {
   "cell_type": "code",
   "execution_count": 40,
   "id": "ce4b90a2-4ae7-4a05-827d-23b45d7bf555",
   "metadata": {},
   "outputs": [],
   "source": [
    "##\n",
    "## In Python, a tuple is an immutable, ordered collection of items. Tuples can hold elements of different types, including numbers, strings, lists, or even other tuples. Once a tuple is created, you cannot modify its elements, which distinguishes it from lists."
   ]
  },
  {
   "cell_type": "code",
   "execution_count": 42,
   "id": "ef64100f-86c8-414e-836e-b20f18400040",
   "metadata": {},
   "outputs": [],
   "source": [
    "##\n",
    "#Creating a Tuple\n",
    "##You can create a tuple by placing items inside parentheses (), separated by commas.\n",
    "\n",
    "# Creating a tuple\n",
    "my_tuple = (1, 2, 3)\n",
    "mixed_tuple = (1, \"Hello\", 3.5, (2, 4))  # A tuple with different data types\n",
    "empty_tuple = ()  # An empty tuple\n",
    "single_element_tuple = (1,)  # A single element tuple (note the comma)\n"
   ]
  },
  {
   "cell_type": "code",
   "execution_count": 43,
   "id": "9f69b7a0-9398-4506-8ac3-6093616f0b56",
   "metadata": {},
   "outputs": [
    {
     "name": "stdout",
     "output_type": "stream",
     "text": [
      "1\n",
      "Hello\n"
     ]
    }
   ],
   "source": [
    "##Accessing Elements\n",
    "##You can access tuple elements using their index. The first element has index 0\n",
    "\n",
    "print(my_tuple[0])  # Output: 1\n",
    "print(mixed_tuple[1])  # Output: \"Hello\"\n"
   ]
  },
  {
   "cell_type": "code",
   "execution_count": 44,
   "id": "fbd531f8-c2a2-4183-bb00-5dd6379df200",
   "metadata": {},
   "outputs": [
    {
     "name": "stdout",
     "output_type": "stream",
     "text": [
      "(2, 3)\n",
      "(1, 'Hello')\n"
     ]
    }
   ],
   "source": [
    "##Slicing a Tuple\n",
    "##You can slice a tuple to get a sub-tuple.\n",
    "print(my_tuple[1:3])  # Output: (2, 3)\n",
    "print(mixed_tuple[:2])  # Output: (1, \"Hello\")\n"
   ]
  },
  {
   "cell_type": "code",
   "execution_count": 45,
   "id": "a24eb5fd-4123-42b9-9f38-5468d7234127",
   "metadata": {},
   "outputs": [
    {
     "name": "stdout",
     "output_type": "stream",
     "text": [
      "(1, 2, 3, 4)\n"
     ]
    }
   ],
   "source": [
    "### tuple operations\n",
    "##You can concatenate two or more tuples using the + operator.\n",
    "tup1 = (1, 2)\n",
    "tup2 = (3, 4)\n",
    "combined = tup1 + tup2\n",
    "print(combined)  # Output: (1, 2, 3, 4)\n"
   ]
  },
  {
   "cell_type": "code",
   "execution_count": 46,
   "id": "84439a36-1995-45c6-b841-859d5a49751d",
   "metadata": {},
   "outputs": [
    {
     "name": "stdout",
     "output_type": "stream",
     "text": [
      "(1, 2, 1, 2, 1, 2)\n"
     ]
    }
   ],
   "source": [
    "## Repeating Tuples\n",
    "##You can repeat a tuple using the * operator.\n",
    "tup = (1, 2)\n",
    "repeated = tup * 3\n",
    "print(repeated)  # Output: (1, 2, 1, 2, 1, 2)\n"
   ]
  },
  {
   "cell_type": "code",
   "execution_count": 47,
   "id": "c226e1f5-86ac-4b69-8fab-89e4db8a1700",
   "metadata": {},
   "outputs": [
    {
     "ename": "TypeError",
     "evalue": "'tuple' object does not support item assignment",
     "output_type": "error",
     "traceback": [
      "\u001b[1;31m---------------------------------------------------------------------------\u001b[0m",
      "\u001b[1;31mTypeError\u001b[0m                                 Traceback (most recent call last)",
      "Cell \u001b[1;32mIn[47], line 3\u001b[0m\n\u001b[0;32m      1\u001b[0m \u001b[38;5;66;03m##Tuples and Immutability\u001b[39;00m\n\u001b[0;32m      2\u001b[0m \u001b[38;5;66;03m##Tuples are immutable, meaning you cannot change, add, or remove elements after the tuple is created.\u001b[39;00m\n\u001b[1;32m----> 3\u001b[0m my_tuple[\u001b[38;5;241m0\u001b[39m] \u001b[38;5;241m=\u001b[39m \u001b[38;5;241m10\u001b[39m\n",
      "\u001b[1;31mTypeError\u001b[0m: 'tuple' object does not support item assignment"
     ]
    }
   ],
   "source": [
    "##Tuples and Immutability\n",
    "##Tuples are immutable, meaning you cannot change, add, or remove elements after the tuple is created.\n",
    "my_tuple[0] = 10  # This will raise a TypeError\n"
   ]
  },
  {
   "cell_type": "code",
   "execution_count": 48,
   "id": "c83b8daa-71d6-4582-baf7-a7e5e75e6579",
   "metadata": {},
   "outputs": [
    {
     "name": "stdout",
     "output_type": "stream",
     "text": [
      "2\n",
      "2\n"
     ]
    }
   ],
   "source": [
    "###Tuple Methods\n",
    "##Tuples have a few built-in methods:\n",
    "\n",
    "##count(): Returns the number of times a specified value appears in the tuple.\n",
    "##index(): Returns the index of the first occurrence of a specified value.\n",
    "tup = (1, 2, 3, 2, 1)\n",
    "\n",
    "print(tup.count(1))  # Output: 2\n",
    "print(tup.index(3))  # Output: 2\n"
   ]
  },
  {
   "cell_type": "code",
   "execution_count": 49,
   "id": "cf519135-4b93-4e2a-b907-1bfb42ca14cb",
   "metadata": {},
   "outputs": [
    {
     "name": "stdout",
     "output_type": "stream",
     "text": [
      "(1, 'hello', 3.14)\n"
     ]
    }
   ],
   "source": [
    "## packaging and unpackaging tuple\n",
    "## packing\n",
    "packed_tuple = 1,\"hello\",3.14\n",
    "print(packed_tuple)"
   ]
  },
  {
   "cell_type": "code",
   "execution_count": 52,
   "id": "22b06a85-4075-409a-b21d-0c376d8b9e0d",
   "metadata": {},
   "outputs": [
    {
     "name": "stdout",
     "output_type": "stream",
     "text": [
      "1\n",
      "hello\n",
      "3.14\n"
     ]
    }
   ],
   "source": [
    "## unpacking a tuple \n",
    "a,b,c = packed_tuple\n",
    "print(a)\n",
    "print(b)\n",
    "print(c)"
   ]
  },
  {
   "cell_type": "code",
   "execution_count": 53,
   "id": "c9c5d170-b422-4cb4-aca0-63148e1da40f",
   "metadata": {},
   "outputs": [
    {
     "name": "stdout",
     "output_type": "stream",
     "text": [
      "1\n",
      "2 3 4\n",
      "5\n"
     ]
    }
   ],
   "source": [
    "## unpacking with * \n",
    "numbers = (1,2,3,4,5)\n",
    "first,*middle,last=numbers\n",
    "print(first)\n",
    "print(*middle)\n",
    "print(last)"
   ]
  },
  {
   "cell_type": "code",
   "execution_count": 55,
   "id": "ff20ba31-c073-4f57-b8c7-d4e0818a2de9",
   "metadata": {},
   "outputs": [
    {
     "data": {
      "text/plain": [
       "6"
      ]
     },
     "execution_count": 55,
     "metadata": {},
     "output_type": "execute_result"
    }
   ],
   "source": [
    "##nested list \n",
    "lst =[[1,2,3,4],[6,7,8,9],[2,'keshav',4,6]]\n",
    "lst[2][3]"
   ]
  },
  {
   "cell_type": "code",
   "execution_count": 56,
   "id": "cec6a731-d035-42ac-9ade-e390186617b2",
   "metadata": {},
   "outputs": [
    {
     "name": "stdout",
     "output_type": "stream",
     "text": [
      "((1, 2, 3), ('a', 'b', 'c'), (9, 8, 76))\n"
     ]
    }
   ],
   "source": [
    "##nested tuple \n",
    "nested_tuple=((1,2,3),(\"a\",\"b\",\"c\"),(9,8,76))\n",
    "print(nested_tuple)"
   ]
  },
  {
   "cell_type": "code",
   "execution_count": 57,
   "id": "43148d9e-c6eb-437a-a75d-6da49ef6e2dc",
   "metadata": {},
   "outputs": [
    {
     "data": {
      "text/plain": [
       "(1, 2, 3)"
      ]
     },
     "execution_count": 57,
     "metadata": {},
     "output_type": "execute_result"
    }
   ],
   "source": [
    "nested_tuple[0]"
   ]
  },
  {
   "cell_type": "code",
   "execution_count": 58,
   "id": "7cd17918-c5c7-477c-bd54-d2aeaffa5d01",
   "metadata": {},
   "outputs": [
    {
     "data": {
      "text/plain": [
       "3"
      ]
     },
     "execution_count": 58,
     "metadata": {},
     "output_type": "execute_result"
    }
   ],
   "source": [
    "nested_tuple[0][2]"
   ]
  },
  {
   "cell_type": "code",
   "execution_count": 61,
   "id": "c8da3939-1535-45ca-a83f-b489d8f8e88d",
   "metadata": {},
   "outputs": [
    {
     "name": "stdout",
     "output_type": "stream",
     "text": [
      "123\n",
      "abc\n",
      "9876\n"
     ]
    }
   ],
   "source": [
    "## iterating of nested tuple\n",
    "\n",
    "for sub_tuple in nested_tuple:\n",
    "    for item in sub_tuple:\n",
    "        print(item,end=\"\")\n",
    "    print()   "
   ]
  },
  {
   "cell_type": "markdown",
   "id": "98bcaaaa-0303-43c4-85c1-6c98cd31d3e3",
   "metadata": {},
   "source": [
    "## sets in pythom\n",
    "1. create a set\n",
    "2. adding and removing\n",
    "3. set operation\n",
    "4. \n"
   ]
  },
  {
   "cell_type": "code",
   "execution_count": 1,
   "id": "553d2c45-bedb-4a98-9246-f6d571e9e221",
   "metadata": {},
   "outputs": [
    {
     "name": "stdout",
     "output_type": "stream",
     "text": [
      "{1, 2, 3, 4}\n",
      "set()\n"
     ]
    }
   ],
   "source": [
    "# Creating a set with elements\n",
    "my_set = {1, 2, 3, 4}\n",
    "print(my_set)\n",
    "\n",
    "# Creating an empty set (you must use the set() function, as {} creates an empty dictionary)\n",
    "empty_set = set()\n",
    "print(empty_set)\n"
   ]
  },
  {
   "cell_type": "code",
   "execution_count": 2,
   "id": "dbddc16c-6a64-4a7f-87e6-8db8d66c501c",
   "metadata": {},
   "outputs": [
    {
     "name": "stdout",
     "output_type": "stream",
     "text": [
      "{1, 2, 3, 4, 5}\n"
     ]
    }
   ],
   "source": [
    "## Adding Elements\n",
    "##You can add elements to a set using the add() method. Since sets only allow unique elements, adding a duplicate won’t have any effect.\n",
    "my_set.add(5)\n",
    "print(my_set)  # Output: {1, 2, 3, 4, 5}\n"
   ]
  },
  {
   "cell_type": "code",
   "execution_count": 3,
   "id": "eee26d43-34e2-40b6-8fb7-1399cfd45355",
   "metadata": {},
   "outputs": [
    {
     "name": "stdout",
     "output_type": "stream",
     "text": [
      "{1, 2, 4, 5}\n"
     ]
    }
   ],
   "source": [
    "## removing elements \n",
    "## You can remove elements using the remove() or discard() methods. The difference is that remove() raises an error if the element is not present, whereas discard() does not.\n",
    "my_set.remove(3)  # Removes the element 3\n",
    "print(my_set)  # Output: {1, 2, 4, 5}\n",
    "\n",
    "my_set.discard(6)  # No error, even if 6 is not in the set\n"
   ]
  },
  {
   "cell_type": "code",
   "execution_count": 4,
   "id": "1d934e59-c0c3-4bda-b650-a20f4a56fc54",
   "metadata": {},
   "outputs": [
    {
     "data": {
      "text/plain": [
       "1"
      ]
     },
     "execution_count": 4,
     "metadata": {},
     "output_type": "execute_result"
    }
   ],
   "source": [
    "#pop method\n",
    "my_set.pop()"
   ]
  },
  {
   "cell_type": "code",
   "execution_count": 5,
   "id": "604f4ab7-b7a9-4801-a2a4-17e0c390ec02",
   "metadata": {},
   "outputs": [
    {
     "data": {
      "text/plain": [
       "{2, 4, 5}"
      ]
     },
     "execution_count": 5,
     "metadata": {},
     "output_type": "execute_result"
    }
   ],
   "source": [
    "my_set"
   ]
  },
  {
   "cell_type": "code",
   "execution_count": 6,
   "id": "05ab88d1-1b99-400a-9373-f34c4e994373",
   "metadata": {},
   "outputs": [],
   "source": [
    "my_set.clear()"
   ]
  },
  {
   "cell_type": "code",
   "execution_count": 7,
   "id": "64e814d0-d4b2-4541-8e5c-fc525df763cb",
   "metadata": {},
   "outputs": [
    {
     "data": {
      "text/plain": [
       "set()"
      ]
     },
     "execution_count": 7,
     "metadata": {},
     "output_type": "execute_result"
    }
   ],
   "source": [
    "my_set"
   ]
  },
  {
   "cell_type": "code",
   "execution_count": 9,
   "id": "07a69cbb-85d1-409f-b1d6-c24a6b394dcf",
   "metadata": {},
   "outputs": [],
   "source": [
    "my_set = {1, 2, 3, 4}"
   ]
  },
  {
   "cell_type": "code",
   "execution_count": 10,
   "id": "97bd1a08-417b-4ab5-95e8-8663d9925457",
   "metadata": {},
   "outputs": [],
   "source": [
    "##Set Operations\n",
    "##Python provides several methods to perform operations on sets, such as union, intersection, difference, and symmetric difference."
   ]
  },
  {
   "cell_type": "code",
   "execution_count": 11,
   "id": "1bb4b7d0-53e8-4756-8127-4d861e3d9875",
   "metadata": {},
   "outputs": [
    {
     "name": "stdout",
     "output_type": "stream",
     "text": [
      "{1, 2, 3, 4, 5}\n"
     ]
    }
   ],
   "source": [
    "## Union: Combines elements from both sets (without duplicates).\n",
    "\n",
    "set1 = {1, 2, 3}\n",
    "set2 = {3, 4, 5}\n",
    "union_set = set1.union(set2)\n",
    "print(union_set)  # Output: {1, 2, 3, 4, 5}\n"
   ]
  },
  {
   "cell_type": "code",
   "execution_count": 12,
   "id": "43c0512e-5287-4d0f-be02-0cb694d6d0f2",
   "metadata": {},
   "outputs": [
    {
     "name": "stdout",
     "output_type": "stream",
     "text": [
      "{3}\n"
     ]
    }
   ],
   "source": [
    "##Intersection: Returns elements common to both sets.\n",
    "intersection_set = set1.intersection(set2)\n",
    "print(intersection_set)  # Output: {3}\n"
   ]
  },
  {
   "cell_type": "code",
   "execution_count": 13,
   "id": "dfe2a7a5-1d2f-417d-b483-49af7b419859",
   "metadata": {},
   "outputs": [
    {
     "name": "stdout",
     "output_type": "stream",
     "text": [
      "{1, 2}\n"
     ]
    }
   ],
   "source": [
    "##Difference: Returns elements present in the first set but not in the second.\n",
    "difference_set = set1.difference(set2)\n",
    "print(difference_set)  # Output: {1, 2}\n"
   ]
  },
  {
   "cell_type": "code",
   "execution_count": 14,
   "id": "c760f95b-3905-4316-b116-9e053dc6527c",
   "metadata": {},
   "outputs": [
    {
     "name": "stdout",
     "output_type": "stream",
     "text": [
      "{1, 2, 4, 5}\n"
     ]
    }
   ],
   "source": [
    "## Symmetric Difference: Returns elements that are in either of the sets but not in both.\n",
    "sym_diff_set = set1.symmetric_difference(set2)\n",
    "print(sym_diff_set)  # Output: {1, 2, 4, 5}\n"
   ]
  },
  {
   "cell_type": "code",
   "execution_count": 15,
   "id": "7bcf2dde-04b5-422a-95bb-97a503975d9a",
   "metadata": {},
   "outputs": [
    {
     "name": "stdout",
     "output_type": "stream",
     "text": [
      "False\n",
      "False\n"
     ]
    }
   ],
   "source": [
    "## sets method \n",
    "set1={1,2,3}\n",
    "set2={3,4,5}\n",
    "## is subset\n",
    "print(set1.issubset(set2))\n",
    "\n",
    "## is superset \n",
    "print(set1.issuperset(set2))"
   ]
  },
  {
   "cell_type": "code",
   "execution_count": 16,
   "id": "c85ec066-dd49-4d34-bdc2-2f8ec53c7b11",
   "metadata": {},
   "outputs": [
    {
     "name": "stdout",
     "output_type": "stream",
     "text": [
      "{'about', 'are', 'in', 'we', 'sets', 'tutorial', 'this', 'discussing'}\n",
      "8\n"
     ]
    }
   ],
   "source": [
    "## counting unique words in text\n",
    "text = \"in this tutorial we are discussing about sets\"\n",
    "words =text.split()\n",
    "## convert list of words to set to get unique words \n",
    "unique_words = set(words)\n",
    "print(unique_words)\n",
    "print(len(unique_words))"
   ]
  },
  {
   "cell_type": "markdown",
   "id": "3c25e080-dd0e-4a62-a9ed-5619140ae29d",
   "metadata": {},
   "source": [
    "## dictionaries in python \n",
    "1. introduction\n",
    "2. creating dictionaries\n",
    "3. accessing\n",
    "4. dictionary methods\n",
    "5. nested dictionary\n",
    "6. dictionary comprehensions\n",
    "7. practical examples and common errors\n",
    "   \n",
    "\n",
    "\n"
   ]
  },
  {
   "cell_type": "code",
   "execution_count": null,
   "id": "ea09f4c2-585b-4640-930f-92b3288edad3",
   "metadata": {},
   "outputs": [],
   "source": [
    "## \n",
    "##In Python, a dictionary is a collection of key-value pairs. It is an unordered, mutable, and indexed data structure, and it allows for fast lookups by key"
   ]
  },
  {
   "cell_type": "code",
   "execution_count": 17,
   "id": "87896c81-94fa-4803-b9d0-00db27310ad4",
   "metadata": {},
   "outputs": [
    {
     "name": "stdout",
     "output_type": "stream",
     "text": [
      "{'name': 'John', 'age': 25, 'city': 'New York'}\n"
     ]
    }
   ],
   "source": [
    "# Example dictionary\n",
    "my_dict = {\n",
    "    \"name\": \"John\",\n",
    "    \"age\": 25,\n",
    "    \"city\": \"New York\"\n",
    "}\n",
    "print(my_dict)  # Output: {'name': 'John', 'age': 25, 'city': 'New York'}\n",
    "\n",
    "# Creating an empty dictionary\n",
    "empty_dict = {}\n",
    "\n",
    "## single key is always used \n"
   ]
  },
  {
   "cell_type": "code",
   "execution_count": 18,
   "id": "3ce537e2-97eb-4ebd-a79e-bc47a0e6cfea",
   "metadata": {},
   "outputs": [
    {
     "name": "stdout",
     "output_type": "stream",
     "text": [
      "John\n",
      "25\n"
     ]
    }
   ],
   "source": [
    "##Accessing Values\n",
    "##You can access the value associated with a specific key by using the key inside square brackets [].\n",
    "\n",
    "# Accessing values\n",
    "print(my_dict[\"name\"])  # Output: John\n",
    "print(my_dict[\"age\"])  # Output: 25\n"
   ]
  },
  {
   "cell_type": "code",
   "execution_count": 19,
   "id": "45f447b8-0069-4f76-8a81-85e2aadd2a64",
   "metadata": {},
   "outputs": [
    {
     "name": "stdout",
     "output_type": "stream",
     "text": [
      "John\n",
      "Unknown\n"
     ]
    }
   ],
   "source": [
    "##Alternatively, you can use the get() method, which returns None (or a default value) if the key is not found, rather than raising an error.\n",
    "print(my_dict.get(\"name\"))  # Output: John\n",
    "print(my_dict.get(\"country\", \"Unknown\"))  # Output: Unknown\n"
   ]
  },
  {
   "cell_type": "code",
   "execution_count": 20,
   "id": "3e5ce69d-f52f-45dc-a32e-7d5c30f88f4e",
   "metadata": {},
   "outputs": [
    {
     "name": "stdout",
     "output_type": "stream",
     "text": [
      "{'name': 'John', 'age': 25, 'city': 'New York', 'country': 'USA'}\n",
      "{'name': 'John', 'age': 26, 'city': 'New York', 'country': 'USA'}\n"
     ]
    }
   ],
   "source": [
    "##Adding or Updating Elements\n",
    "##You can add a new key-value pair or update an existing one by using the assignment operator =.\n",
    "\n",
    "# Adding a new key-value pair\n",
    "my_dict[\"country\"] = \"USA\"\n",
    "print(my_dict)  # Output: {'name': 'John', 'age': 25, 'city': 'New York', 'country': 'USA'}\n",
    "\n",
    "# Updating an existing key-value pair\n",
    "my_dict[\"age\"] = 26\n",
    "print(my_dict)  # Output: {'name': 'John', 'age': 26, 'city': 'New York', 'country': 'USA'}\n"
   ]
  },
  {
   "cell_type": "code",
   "execution_count": 21,
   "id": "177e7a31-1106-4279-a91e-a5f7202d04c8",
   "metadata": {},
   "outputs": [
    {
     "name": "stdout",
     "output_type": "stream",
     "text": [
      "26\n",
      "{'name': 'John', 'city': 'New York', 'country': 'USA'}\n"
     ]
    }
   ],
   "source": [
    "##Removing Elements\n",
    "##You can remove elements from a dictionary using various methods:\n",
    "1.\n",
    "##pop(): Removes the key and returns its value. Raises a KeyError if the key is not found\n",
    "\n",
    "age = my_dict.pop(\"age\")\n",
    "print(age)  # Output: 26\n",
    "print(my_dict)  # Output: {'name': 'John', 'city': 'New York', 'country': 'USA'}\n",
    "\n"
   ]
  },
  {
   "cell_type": "code",
   "execution_count": 22,
   "id": "61428c8a-3755-4d21-abd9-cf6a885b8743",
   "metadata": {},
   "outputs": [
    {
     "name": "stdout",
     "output_type": "stream",
     "text": [
      "('country', 'USA')\n",
      "{'name': 'John', 'city': 'New York'}\n"
     ]
    }
   ],
   "source": [
    "## 2. popitem(): Removes and returns the last inserted key-value pair (since Python 3.7, dictionaries are ordered).\n",
    "\n",
    "last_item = my_dict.popitem()\n",
    "print(last_item)  # Output: ('country', 'USA')\n",
    "print(my_dict)  # Output: {'name': 'John', 'city': 'New York'}\n"
   ]
  },
  {
   "cell_type": "code",
   "execution_count": 23,
   "id": "a53f388d-bccb-4625-b347-87df7b7b054c",
   "metadata": {},
   "outputs": [
    {
     "name": "stdout",
     "output_type": "stream",
     "text": [
      "{'name': 'John'}\n"
     ]
    }
   ],
   "source": [
    "## del: Deletes a specific key or the entire dictionary.\n",
    "del my_dict[\"city\"]\n",
    "print(my_dict)  # Output: {'name': 'John'}\n",
    "\n",
    "# del my_dict  # Deletes the entire dictionary\n"
   ]
  },
  {
   "cell_type": "code",
   "execution_count": 24,
   "id": "cd6d21b4-0121-4c8d-92ce-b74a15169825",
   "metadata": {},
   "outputs": [
    {
     "name": "stdout",
     "output_type": "stream",
     "text": [
      "{}\n"
     ]
    }
   ],
   "source": [
    "##clear(): Removes all key-value pairs from the dictionary.\n",
    "\n",
    "my_dict.clear()\n",
    "print(my_dict)  # Output: {}\n"
   ]
  },
  {
   "cell_type": "code",
   "execution_count": 25,
   "id": "d617ba4d-699b-4998-bea0-ba4f78baf650",
   "metadata": {},
   "outputs": [
    {
     "name": "stdout",
     "output_type": "stream",
     "text": [
      "dict_keys(['name', 'age', 'city'])\n",
      "dict_values(['Alice', 30, 'Paris'])\n",
      "dict_items([('name', 'Alice'), ('age', 30), ('city', 'Paris')])\n"
     ]
    }
   ],
   "source": [
    "## dictionary method \n",
    "##Dictionary Methods\n",
    "### keys(): Returns all the keys in the dictionary.\n",
    "### values(): Returns all the values in the dictionary.\n",
    "### items(): Returns a list of key-value pairs as tuples\n",
    "\n",
    "my_dict = {\"name\": \"Alice\", \"age\": 30, \"city\": \"Paris\"}\n",
    "\n",
    "# Getting all keys\n",
    "keys = my_dict.keys()\n",
    "print(keys)  # Output: dict_keys(['name', 'age', 'city'])\n",
    "\n",
    "# Getting all values\n",
    "values = my_dict.values()\n",
    "print(values)  # Output: dict_values(['Alice', 30, 'Paris'])\n",
    "\n",
    "# Getting all items (key-value pairs)\n",
    "items = my_dict.items()\n",
    "print(items)  # Output: dict_items([('name', 'Alice'), ('age', 30), ('city', 'Paris')])\n",
    "\n"
   ]
  },
  {
   "cell_type": "code",
   "execution_count": 26,
   "id": "3e377aef-8c17-4f57-92c6-fb90f3eeb02b",
   "metadata": {},
   "outputs": [
    {
     "name": "stdout",
     "output_type": "stream",
     "text": [
      "{'name': 'Alice', 'age': 30, 'city': 'Paris'}\n",
      "{'name': 'Alice', 'age': 30, 'city': 'Paris'}\n"
     ]
    }
   ],
   "source": [
    "### shallow copy\n",
    "my_dict_copy=my_dict\n",
    "print(my_dict)\n",
    "print(my_dict_copy)"
   ]
  },
  {
   "cell_type": "code",
   "execution_count": 28,
   "id": "e795bc8c-55f5-40b4-bb7a-779e1f619834",
   "metadata": {},
   "outputs": [
    {
     "name": "stdout",
     "output_type": "stream",
     "text": [
      "{'name': 'keshav', 'age': 30, 'city': 'Paris'}\n",
      "{'name': 'keshav', 'age': 30, 'city': 'Paris'}\n"
     ]
    }
   ],
   "source": [
    "my_dict[\"name\"]=\"keshav\"\n",
    "print(my_dict)\n",
    "print(my_dict_copy)"
   ]
  },
  {
   "cell_type": "code",
   "execution_count": 29,
   "id": "66bc4e05-80c5-4b62-82d3-24498d73e376",
   "metadata": {},
   "outputs": [
    {
     "name": "stdout",
     "output_type": "stream",
     "text": [
      "{'name': 'keshav', 'age': 30, 'city': 'Paris'}\n",
      "{'name': 'keshav', 'age': 30, 'city': 'Paris'}\n"
     ]
    }
   ],
   "source": [
    "my_dict_copy1 = my_dict.copy() ##shallow copy\n",
    "print(my_dict)\n",
    "print(my_dict_copy1)"
   ]
  },
  {
   "cell_type": "code",
   "execution_count": 30,
   "id": "ad61b889-577c-42ed-a3e6-2371aa6438fb",
   "metadata": {},
   "outputs": [
    {
     "name": "stdout",
     "output_type": "stream",
     "text": [
      "{'name': 'keshav', 'age': 30, 'city': 'Paris'}\n",
      "{'name': 'dinesh', 'age': 30, 'city': 'Paris'}\n"
     ]
    }
   ],
   "source": [
    "my_dict_copy1[\"name\"]= \"dinesh\"\n",
    "print(my_dict)\n",
    "print(my_dict_copy1)"
   ]
  },
  {
   "cell_type": "code",
   "execution_count": 31,
   "id": "2b8671de-c05c-4d5d-9723-d49838dce335",
   "metadata": {},
   "outputs": [
    {
     "name": "stdout",
     "output_type": "stream",
     "text": [
      "name\n",
      "age\n",
      "city\n",
      "keshav\n",
      "30\n",
      "Paris\n",
      "name: keshav\n",
      "age: 30\n",
      "city: Paris\n"
     ]
    }
   ],
   "source": [
    "## iterating over dictionary \n",
    "### Looping Through a Dictionary\n",
    "## You can iterate through a dictionary using a for loop to access keys, values, or key-value pairs.\n",
    "\n",
    "\n",
    "# Iterating through keys\n",
    "for key in my_dict:\n",
    "    print(key)\n",
    "\n",
    "# Iterating through values\n",
    "for value in my_dict.values():\n",
    "    print(value)\n",
    "\n",
    "# Iterating through key-value pairs\n",
    "for key, value in my_dict.items():\n",
    "    print(f\"{key}: {value}\")\n",
    "\n"
   ]
  },
  {
   "cell_type": "code",
   "execution_count": 32,
   "id": "ca0737df-f454-44eb-b597-17b7da0dc61e",
   "metadata": {},
   "outputs": [
    {
     "name": "stdout",
     "output_type": "stream",
     "text": [
      "{1: 1, 2: 4, 3: 9, 4: 16, 5: 25}\n"
     ]
    }
   ],
   "source": [
    "##Dictionary Comprehension\n",
    "##Like list comprehensions, Python allows dictionary comprehensions to create dictionaries in a more compact way.\n",
    "# Example: Create a dictionary with numbers and their squares\n",
    "squares = {x: x**2 for x in range(1, 6)}\n",
    "print(squares)  # Output: {1: 1, 2: 4, 3: 9, 4: 16, 5: 25}\n",
    "\n",
    "\n"
   ]
  },
  {
   "cell_type": "code",
   "execution_count": 33,
   "id": "2ac01ca9-07e4-4b51-903b-4cc5d4226d44",
   "metadata": {},
   "outputs": [
    {
     "name": "stdout",
     "output_type": "stream",
     "text": [
      "{'student1': {'name': 'tyagi', 'age': 32}, 'student2': {'name': 'dinesh', 'age': 56}}\n"
     ]
    }
   ],
   "source": [
    "## nested dictionaries\n",
    "students={\"student1\":{\"name\":\"tyagi\",\"age\":32},\n",
    "          \"student2\":{\"name\":\"dinesh\", \"age\":56}}\n",
    "print(students)"
   ]
  },
  {
   "cell_type": "code",
   "execution_count": 36,
   "id": "6b37ff57-2840-43c2-9b74-f70a7de20edb",
   "metadata": {},
   "outputs": [
    {
     "data": {
      "text/plain": [
       "'tyagi'"
      ]
     },
     "execution_count": 36,
     "metadata": {},
     "output_type": "execute_result"
    }
   ],
   "source": [
    "## access nested dictionary elements\n",
    "(students[\"student1\"][\"name\"])"
   ]
  },
  {
   "cell_type": "code",
   "execution_count": 38,
   "id": "95c3e271-1f64-4034-9014-093c68386fa0",
   "metadata": {},
   "outputs": [
    {
     "name": "stdout",
     "output_type": "stream",
     "text": [
      "student1:{'name': 'tyagi', 'age': 32}\n",
      "name:tyagi\n",
      "age:32\n",
      "student2:{'name': 'dinesh', 'age': 56}\n",
      "name:dinesh\n",
      "age:56\n"
     ]
    }
   ],
   "source": [
    "## iterating over nested dictionaries\n",
    "for student_id,student_info in students.items():\n",
    "    print(f\"{student_id}:{student_info}\")\n",
    "    for key , value in student_info.items():\n",
    "        print(f\"{key}:{value}\")"
   ]
  },
  {
   "cell_type": "code",
   "execution_count": 39,
   "id": "65b1afef-8bd8-4b4b-b798-094a6c218b36",
   "metadata": {},
   "outputs": [
    {
     "name": "stdout",
     "output_type": "stream",
     "text": [
      "{'a': 1, 'b': 2, 'c': 5, 'd': 6}\n"
     ]
    }
   ],
   "source": [
    "## merge two dictionary \n",
    "\n",
    "dict1 ={\"a\":1,\"b\":2}\n",
    "dict2= {\"c\":5 ,\"d\":6}\n",
    "\n",
    "merged_dict= {**dict1,**dict2}\n",
    "print(merged_dict)"
   ]
  },
  {
   "cell_type": "code",
   "execution_count": null,
   "id": "1beacfea-1d5d-4702-89ca-71b6421db185",
   "metadata": {},
   "outputs": [],
   "source": []
  }
 ],
 "metadata": {
  "kernelspec": {
   "display_name": "Python 3 (ipykernel)",
   "language": "python",
   "name": "python3"
  },
  "language_info": {
   "codemirror_mode": {
    "name": "ipython",
    "version": 3
   },
   "file_extension": ".py",
   "mimetype": "text/x-python",
   "name": "python",
   "nbconvert_exporter": "python",
   "pygments_lexer": "ipython3",
   "version": "3.12.4"
  }
 },
 "nbformat": 4,
 "nbformat_minor": 5
}
