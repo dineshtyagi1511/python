{
 "cells": [
  {
   "cell_type": "markdown",
   "id": "376ebf67-bd75-4b3c-88eb-76785c0a4b01",
   "metadata": {},
   "source": [
    "## Variables in python\n",
    "In Python, variables are used to store data. A variable is created when you assign a value to it using the \" = \" operator. Python variables do not require explicit declaration and can hold different data types.\n",
    "\n",
    "Rules for Python Variables:\n",
    "\n",
    "Variable names must start with a letter or an underscore (_), but cannot start with a number.\n",
    "\n",
    "The rest of the variable name can consist of letters, numbers, and underscores.\n",
    "\n",
    "Variable names are case-sensitive (myVariable and myvariable are different)."
   ]
  },
  {
   "cell_type": "code",
   "execution_count": 10,
   "id": "b96cb27d-41e1-41ec-9537-26518d749285",
   "metadata": {},
   "outputs": [],
   "source": [
    "x = 10            # Integer\n",
    "name = \"Alice\"     # String\n",
    "pi = 3.14         # Float\n",
    "is_active = True   # Boolean"
   ]
  },
  {
   "cell_type": "markdown",
   "id": "22cba8a3-46a7-4fad-b090-ef0f0c3c01e5",
   "metadata": {},
   "source": [
    "\n",
    "## Dynamic Typing\n",
    "Python is dynamically typed, meaning the type of a variable is determined at runtime, and you can change the value and type of a variable."
   ]
  },
  {
   "cell_type": "code",
   "execution_count": 11,
   "id": "d034d11b-237a-4dfc-a29b-d9bff37925f6",
   "metadata": {},
   "outputs": [],
   "source": [
    "\n",
    "x = 10            # Integer\n",
    "x = \"Now a string\" # Now it's a string"
   ]
  },
  {
   "cell_type": "markdown",
   "id": "93ba7aa9-8f68-4879-ac9b-2420f2664149",
   "metadata": {},
   "source": [
    "## Multiple Assignments\n",
    "You can assign values to multiple variables at once:"
   ]
  },
  {
   "cell_type": "code",
   "execution_count": 13,
   "id": "1e7a3c9a-d29c-4bbd-a3bf-6b5b2554519e",
   "metadata": {},
   "outputs": [],
   "source": [
    "\n",
    "a, b, c = 1, 2, 3"
   ]
  },
  {
   "cell_type": "markdown",
   "id": "c3d86389-d411-4c39-a730-b6ac0cb63683",
   "metadata": {},
   "source": [
    "## Swapping Values\n",
    "In Python, you can swap variables without a temporary variable:"
   ]
  },
  {
   "cell_type": "code",
   "execution_count": 14,
   "id": "22ba6707-5ee4-41d6-99ab-69491b790185",
   "metadata": {},
   "outputs": [],
   "source": [
    "x, y = 5, 10\n",
    "x, y = y, x  # Now x is 10 and y is 5"
   ]
  },
  {
   "cell_type": "markdown",
   "id": "d5f3e884-183e-4c1a-aa47-b74e0ae762b0",
   "metadata": {},
   "source": [
    "## Checking Variable Type\n",
    "To check the type of a variable, use the type() function:"
   ]
  },
  {
   "cell_type": "code",
   "execution_count": 15,
   "id": "f77d59c1-1730-47a5-9ced-26242d6d8553",
   "metadata": {},
   "outputs": [
    {
     "name": "stdout",
     "output_type": "stream",
     "text": [
      "<class 'int'>\n"
     ]
    }
   ],
   "source": [
    "x = 42\n",
    "print(type(x))  # Output: <class 'int'>"
   ]
  },
  {
   "cell_type": "markdown",
   "id": "312675f7-279a-43cd-8adc-bb63b9cc27f0",
   "metadata": {},
   "source": [
    "## ----> Basic data types in python\n",
    "In Python, there are several basic data types (or primitive types) that are commonly used to store different kinds of values. Here are the main ones:\n",
    "\n",
    "## Integer (int)\n",
    "Represents whole numbers (positive, negative, or zero) without decimal points.\n",
    "\n",
    "Type: int\n",
    "\n",
    "Range: Arbitrarily large (unlike many languages with fixed-size integers)."
   ]
  },
  {
   "cell_type": "code",
   "execution_count": 1,
   "id": "40b1271d-4af0-4665-9d3d-9aeab4917771",
   "metadata": {},
   "outputs": [],
   "source": [
    "age = 25\n",
    "temperature = -10"
   ]
  },
  {
   "cell_type": "markdown",
   "id": "c7b60e76-a374-42d8-b373-725276b2d6e7",
   "metadata": {},
   "source": [
    "## Floating Point Number (float)\n",
    "Represents real numbers with decimal points (i.e., numbers that have a fractional part).\n",
    "\n",
    "Type: float"
   ]
  },
  {
   "cell_type": "code",
   "execution_count": 2,
   "id": "b2000015-9df1-4de0-b5bb-1a26478942ec",
   "metadata": {},
   "outputs": [],
   "source": [
    "pi = 3.14159\n",
    "height = 5.8"
   ]
  },
  {
   "cell_type": "markdown",
   "id": "8b92befc-3033-4fb2-b4fe-0ec1179283ba",
   "metadata": {},
   "source": [
    "## String (str)\r\n",
    "A sequence of characters (text). Strings are enclosed in single (') or double (\") quotes.\r\n",
    "\r\n",
    "Type: str\r\n",
    "\r\n",
    "Strings are immutable, meaning once created, they cannot be modified."
   ]
  },
  {
   "cell_type": "code",
   "execution_count": 3,
   "id": "1dc103df-4c2c-443a-a208-c789fcf07896",
   "metadata": {},
   "outputs": [],
   "source": [
    "name = \"Alice\"\n",
    "greeting = 'Hello, world!'"
   ]
  },
  {
   "cell_type": "markdown",
   "id": "fa52b5fe-697d-4d2c-9e47-38362d26a72c",
   "metadata": {},
   "source": [
    "## Boolean (bool)\n",
    "Represents one of two values: True or False. Type: bool"
   ]
  },
  {
   "cell_type": "code",
   "execution_count": 4,
   "id": "1e2e7331-1e57-4216-b1cf-43f4af597e97",
   "metadata": {},
   "outputs": [],
   "source": [
    "is_active = True\n",
    "has_permission = False"
   ]
  },
  {
   "cell_type": "markdown",
   "id": "54e44d53-9467-4f92-8db8-468d79ef28cb",
   "metadata": {},
   "source": [
    "## None (NoneType)\n",
    "Represents the absence of a value or a null value."
   ]
  },
  {
   "cell_type": "code",
   "execution_count": 6,
   "id": "46fdbbab-b545-46ee-a464-e08630b998ad",
   "metadata": {},
   "outputs": [],
   "source": [
    "\n",
    "result = None"
   ]
  },
  {
   "cell_type": "markdown",
   "id": "ffd61314-a8d4-4e09-a92c-2328f21d9d17",
   "metadata": {},
   "source": [
    "## Complex Numbers (complex)\n",
    "Represents complex numbers (numbers with a real and an imaginary part)\n",
    "\n",
    "Type: complex\n",
    "\n",
    "The imaginary part is denoted by j."
   ]
  },
  {
   "cell_type": "code",
   "execution_count": 7,
   "id": "2d2f14b4-083b-4361-b6b1-4203a605c53a",
   "metadata": {},
   "outputs": [],
   "source": [
    "z = 3 + 4j"
   ]
  },
  {
   "cell_type": "markdown",
   "id": "90b6c3c7-e3cd-49fe-9637-156719af9f99",
   "metadata": {},
   "source": [
    "## Checking Data Types\n",
    "You can use the type() function to check the data type of a variable:"
   ]
  },
  {
   "cell_type": "code",
   "execution_count": 8,
   "id": "7c92f154-1190-495c-9ed3-de6fbc89abbb",
   "metadata": {},
   "outputs": [
    {
     "name": "stdout",
     "output_type": "stream",
     "text": [
      "<class 'int'>\n",
      "<class 'float'>\n"
     ]
    }
   ],
   "source": [
    "\n",
    "x = 10\n",
    "print(type(x))  # Output: <class 'int'>\n",
    "\n",
    "y = 3.14\n",
    "print(type(y))  # Output: <class 'float'>"
   ]
  },
  {
   "cell_type": "markdown",
   "id": "37aeabc4-33fb-4c94-81ed-f0c2a4b7ac32",
   "metadata": {},
   "source": [
    "## Type Conversion (Casting)\n",
    "You can convert between data types using casting functions:\n",
    "\n",
    "int(): Convert to integer\n",
    "\n",
    "float(): Convert to float\n",
    "\n",
    "str(): Convert to string\n",
    "\n",
    "bool(): Convert to boolean"
   ]
  },
  {
   "cell_type": "code",
   "execution_count": 9,
   "id": "1a71ca20-a5b9-4d41-ab4d-40cf4becf614",
   "metadata": {},
   "outputs": [],
   "source": [
    "\n",
    "x = 5.67\n",
    "y = int(x)  # y becomes 5 (float to int conversion)\n",
    "\n",
    "z = str(100)  # z becomes \"100\" (int to string conversion)"
   ]
  },
  {
   "cell_type": "markdown",
   "id": "56c990b9-2eb8-4375-a104-585df4578179",
   "metadata": {},
   "source": [
    "## Operator in python\n",
    "In Python, operators are used to perform operations on variables and values. They can be categorized into several types:"
   ]
  },
  {
   "cell_type": "code",
   "execution_count": null,
   "id": "37c92388-2080-4d9b-89a9-e0c4ae2b9fe5",
   "metadata": {},
   "outputs": [],
   "source": [
    "## Arithmetic Operators\n",
    "'''Used for mathematical operations.\n",
    "\n",
    "Operator\t                 Description\t                   Example\n",
    "+\t                          Addition                      \tx + y\n",
    "\t                      \n",
    "-\t                          Subtraction\t                    x - y\n",
    "                        \n",
    "*\t                          Multiplication\t                x * y\n",
    "\t                      \n",
    "/\t                          Division\t                        x / y\n",
    "\n",
    "%\t                          Modulus (remainder)\t            x % y\n",
    "\n",
    "**\t                          Exponentiation\t                x ** y (x raised to the power y)\n",
    "\n",
    "//\t                          Floor Division\t                x // y (division that rounds down)'''"
   ]
  },
  {
   "cell_type": "code",
   "execution_count": 17,
   "id": "563e9180-1be1-45b0-9358-ddf87985b0b8",
   "metadata": {},
   "outputs": [
    {
     "name": "stdout",
     "output_type": "stream",
     "text": [
      "13\n",
      "3.3333333333333335\n",
      "3\n",
      "1\n",
      "1000\n"
     ]
    }
   ],
   "source": [
    "x = 10\n",
    "y = 3\n",
    "print(x + y)   # Output: 13\n",
    "print(x / y)   # Output: 3.333...\n",
    "print(x // y)  # Output: 3 (floor division)\n",
    "print(x % y)   # Output: 1\n",
    "print(x ** y)  # Output: 1000\n"
   ]
  },
  {
   "cell_type": "code",
   "execution_count": null,
   "id": "1af4be36-fb18-40f1-a31b-8456fa60f0f9",
   "metadata": {},
   "outputs": [],
   "source": [
    "''' Comparison (Relational) Operators\n",
    "Used to compare values and return a Boolean result (True or False).\n",
    "\n",
    "Operator\t       Description\t          Example\n",
    "==\t                Equal to\t          x == y\n",
    "!=\t                Not equal to\t      x != y\n",
    ">\t                Greater than\t      x > y\n",
    "<\t                Less than\t          x < y\n",
    ">=\t                Greater than\n",
    "                    or equal to\t          x >= y\n",
    "<=\t                Less than or  \n",
    "                    equal to\t          x <= y   '''"
   ]
  },
  {
   "cell_type": "code",
   "execution_count": 18,
   "id": "e9246e40-a672-4078-bd4f-a150136c5d9b",
   "metadata": {},
   "outputs": [
    {
     "name": "stdout",
     "output_type": "stream",
     "text": [
      "False\n",
      "True\n",
      "True\n"
     ]
    }
   ],
   "source": [
    "x = 5\n",
    "y = 10\n",
    "print(x > y)   # Output: False\n",
    "print(x <= y)  # Output: True\n",
    "print(x != y)"
   ]
  },
  {
   "cell_type": "code",
   "execution_count": null,
   "id": "a3937b7f-4530-4c5c-8b5f-137cd9421e4a",
   "metadata": {},
   "outputs": [],
   "source": [
    "''' Assignment Operators\n",
    "Used to assign values to variables.\n",
    "\n",
    "Operator\t               Description                  \tExample\n",
    "=\t                       Assigns value\t                 x = 5\n",
    "+=\t                       Add and assign\t                 x += 3 (x = x + 3)\n",
    "-=\t                       Subtract and assign\t             x -= 3 (x = x - 3)\n",
    "*=\t                       Multiply and assign\t             x *= 3\n",
    "/=\t                       Divide and assign\t             x /= 3\n",
    "%=\t                       Modulus and assign\t             x %= 3\n",
    "**=\t                       Exponentiation and assign\t     x **= 3\n",
    "//=\t                       Floor division and assign\t     x //= 3'''"
   ]
  },
  {
   "cell_type": "code",
   "execution_count": null,
   "id": "2fecc149-e50c-4c2c-a9e0-e9af5b416b98",
   "metadata": {},
   "outputs": [],
   "source": [
    "x = 5\n",
    "x += 3  # x becomes 8\n",
    "x *= 2  # x becomes 16"
   ]
  },
  {
   "cell_type": "code",
   "execution_count": null,
   "id": "43365f97-406b-4b8e-8081-b0e76e0d2059",
   "metadata": {},
   "outputs": [],
   "source": [
    "'''Logical Operators\n",
    "Used to combine conditional statements. They return a Boolean result.\n",
    "\n",
    "Operator\t                      Description\t                                     Example\n",
    "and\t                    True if both conditions are true\t                    x < 5 and x < 10\n",
    "or\t                    True if at least one condition is true\t                x < 5 or x > 10\n",
    "not\t                    Reverses the result (True becomes False, and vice versa)\tnot(x < 5)'''"
   ]
  },
  {
   "cell_type": "code",
   "execution_count": null,
   "id": "80b304d9-9b58-48a2-92f6-6f1c3dd02047",
   "metadata": {},
   "outputs": [],
   "source": [
    "x = 5\n",
    "print(x > 3 and x < 10)  # Output: True\n",
    "print(x > 6 or x < 3)    # Output: False\n",
    "print(not(x > 3))        # Output: False"
   ]
  },
  {
   "cell_type": "code",
   "execution_count": null,
   "id": "7054f995-c02c-45a4-8391-ddfe1cf8849d",
   "metadata": {},
   "outputs": [],
   "source": [
    "'''Bitwise Operators\n",
    "Used to perform bit-level operations.\n",
    "\n",
    "Operator\t       Description\t          Example\n",
    "&\t              Bitwise AND\t           x & y\n",
    "`\t                    `\t             Bitwise OR\n",
    "^\t                Bitwise XOR         \tx ^ y\n",
    "~\t               Bitwise NOT \t             ~x\n",
    "<<\t                 Left Shift\t           x << y\n",
    ">>\t               Right Shift\t           x >> y '''\n",
    "\n"
   ]
  },
  {
   "cell_type": "code",
   "execution_count": 19,
   "id": "fee45d5d-b8df-41ef-b009-a170af0c77cd",
   "metadata": {},
   "outputs": [
    {
     "name": "stdout",
     "output_type": "stream",
     "text": [
      "0\n",
      "7\n",
      "7\n"
     ]
    }
   ],
   "source": [
    "x = 4  # Binary: 100\n",
    "y = 3  # Binary: 011\n",
    "print(x & y)  # Output: 0 (Binary AND)\n",
    "print(x | y)  # Output: 7 (Binary OR)\n",
    "print(x ^ y)  # Output: 7 (Binary XOR)"
   ]
  },
  {
   "cell_type": "code",
   "execution_count": null,
   "id": "6afca486-14b0-4fa6-8cce-e5f7e0561125",
   "metadata": {},
   "outputs": [],
   "source": [
    "''' Membership Operators\n",
    "Used to check if a value exists within a sequence (like strings, lists, tuples).\n",
    "\n",
    "Operator\t            Description                    \tExample\n",
    "in\t                   True if a value is present\t     x in y\n",
    "not in\t               True if a value is not present\tx not in y'''"
   ]
  },
  {
   "cell_type": "code",
   "execution_count": 20,
   "id": "2d2db282-e6e4-45c6-8928-638db6dbfbd1",
   "metadata": {},
   "outputs": [
    {
     "name": "stdout",
     "output_type": "stream",
     "text": [
      "True\n",
      "True\n"
     ]
    }
   ],
   "source": [
    "x = \"hello\"\n",
    "print(\"h\" in x)  # Output: True\n",
    "print(\"z\" not in x)  # Output: True"
   ]
  },
  {
   "cell_type": "code",
   "execution_count": null,
   "id": "b77ef3c6-3bd5-4489-863c-2a2c0c2029b1",
   "metadata": {},
   "outputs": [],
   "source": [
    "\n",
    "''' Identity Operators\n",
    "Used to compare the memory locations of two objects.\n",
    "\n",
    "Operator\t                   Description\t                                         Example\n",
    "is\t               True if both objects refer to the same memory location\t          x is y\n",
    "is not\t           True if both objects do not refer to the same memory location\t  x is not y'''"
   ]
  },
  {
   "cell_type": "code",
   "execution_count": 21,
   "id": "6698ddf1-8dfa-4bf6-a7d3-4d2561a7d583",
   "metadata": {},
   "outputs": [
    {
     "name": "stdout",
     "output_type": "stream",
     "text": [
      "True\n",
      "False\n"
     ]
    }
   ],
   "source": [
    "x = [1, 2, 3]\n",
    "y = x\n",
    "z = [1, 2, 3]\n",
    "print(x is y)   # Output: True (y references the same object as x)\n",
    "print(x is z)   # Output: False (x and z are different objects with the same values)"
   ]
  },
  {
   "cell_type": "code",
   "execution_count": null,
   "id": "0bb3940b-23bb-4a3b-8936-94d3fbd5cbbd",
   "metadata": {},
   "outputs": [],
   "source": []
  },
  {
   "cell_type": "code",
   "execution_count": null,
   "id": "1bb513c6-4694-4917-9e0f-d14af10b0e73",
   "metadata": {},
   "outputs": [],
   "source": []
  },
  {
   "cell_type": "code",
   "execution_count": null,
   "id": "39004b99-e439-4f5e-aeb4-1c1b923aa478",
   "metadata": {},
   "outputs": [],
   "source": []
  },
  {
   "cell_type": "code",
   "execution_count": null,
   "id": "964b0209-dd4a-4992-a06e-5f7904899705",
   "metadata": {},
   "outputs": [],
   "source": []
  },
  {
   "cell_type": "code",
   "execution_count": null,
   "id": "83d32474-aca4-4694-8f31-1e88faeefc7b",
   "metadata": {},
   "outputs": [],
   "source": []
  },
  {
   "cell_type": "code",
   "execution_count": null,
   "id": "f5641cd4-2a30-4f0c-a862-c2de9c2a6b2a",
   "metadata": {},
   "outputs": [],
   "source": []
  },
  {
   "cell_type": "code",
   "execution_count": null,
   "id": "3ebb6972-29a8-4b59-9b3f-0471f95764d3",
   "metadata": {},
   "outputs": [],
   "source": []
  },
  {
   "cell_type": "code",
   "execution_count": null,
   "id": "99ab755f-5c9b-4873-8daa-cf07929ed503",
   "metadata": {},
   "outputs": [],
   "source": []
  }
 ],
 "metadata": {
  "kernelspec": {
   "display_name": "Python 3 (ipykernel)",
   "language": "python",
   "name": "python3"
  },
  "language_info": {
   "codemirror_mode": {
    "name": "ipython",
    "version": 3
   },
   "file_extension": ".py",
   "mimetype": "text/x-python",
   "name": "python",
   "nbconvert_exporter": "python",
   "pygments_lexer": "ipython3",
   "version": "3.12.4"
  }
 },
 "nbformat": 4,
 "nbformat_minor": 5
}
