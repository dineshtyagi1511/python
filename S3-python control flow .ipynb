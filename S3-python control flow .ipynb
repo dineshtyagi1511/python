{
 "cells": [
  {
   "cell_type": "markdown",
   "id": "61c4268e-084a-47e1-8d7b-6a76ad9f2ffa",
   "metadata": {},
   "source": [
    "## CONTROL FLOW\n",
    "\n",
    "## CONDITIONAL STATEMENTS(IF,ELSE,ELIF)\n",
    "\n",
    "1. introduvtion to conditional statements\n",
    "2. if statements\n",
    "3. else statements\n",
    "4. elif statements\n",
    "5. nested conditional statements\n",
    "6. practical example\n",
    "7. common errors and best practices\n",
    "In Python, conditional statements are used to execute a block of code only if a specified condition is true. The most common conditional statement is the if statement, which can be combined with elif (else-if) and else clauses to handle different conditions."
   ]
  },
  {
   "cell_type": "code",
   "execution_count": null,
   "id": "6ee652b7-53b8-4e33-8a60-0ef3d3b25164",
   "metadata": {},
   "outputs": [],
   "source": [
    "### if statement\n",
    "age = int(input())\n",
    "if age>=18:\n",
    "    print(\"you are allowed to vote in the elections\")"
   ]
  },
  {
   "cell_type": "code",
   "execution_count": 2,
   "id": "9fe329b4-7f53-4696-9b4f-2371aa86ddad",
   "metadata": {},
   "outputs": [
    {
     "name": "stdin",
     "output_type": "stream",
     "text": [
      " 23\n"
     ]
    },
    {
     "name": "stdout",
     "output_type": "stream",
     "text": [
      "you are allowed to vote in the elections\n"
     ]
    }
   ],
   "source": [
    "### else statements\n",
    " ## the else statement execute a block of  code if the condition in the if statement is false \n",
    "age = int(input())\n",
    "if age>=18:\n",
    "    print(\"you are allowed to vote in the elections\")\n",
    "else:\n",
    "    print(\"you are a minor\")"
   ]
  },
  {
   "cell_type": "code",
   "execution_count": 4,
   "id": "e63ffa69-e7be-4be2-b8b3-aef5ed28384b",
   "metadata": {},
   "outputs": [
    {
     "name": "stdin",
     "output_type": "stream",
     "text": [
      "Enter your age:  12\n"
     ]
    },
    {
     "name": "stdout",
     "output_type": "stream",
     "text": [
      "You are a minor.\n"
     ]
    }
   ],
   "source": [
    "### elif statement\n",
    "## the elif statement allows you to check for multiple condition . it stand  for \"else if\"\n",
    "age = int(input(\"Enter your age: \"))\n",
    "\n",
    "if age >= 18 and age < 79:\n",
    "    print(\"You are allowed to vote in the elections.\")\n",
    "elif age >= 80:\n",
    "    print(\"You are too old.\")\n",
    "else:\n",
    "    print(\"You are a minor.\")"
   ]
  },
  {
   "cell_type": "code",
   "execution_count": 7,
   "id": "a27506ff-358b-448a-a8b2-c10fbd248585",
   "metadata": {},
   "outputs": [
    {
     "name": "stdin",
     "output_type": "stream",
     "text": [
      " 12\n"
     ]
    },
    {
     "name": "stdout",
     "output_type": "stream",
     "text": [
      "no menstrul cyle \n"
     ]
    }
   ],
   "source": [
    "age = int(input())\n",
    "if age>=13 and age<=16:\n",
    "    print(\"menstrual cycle start \")\n",
    "elif age >=17 and age<=45:\n",
    "    print(\"menstrual cycle is running\")\n",
    "elif age<=12:\n",
    "    print(\"no menstrul cyle \")\n",
    "else:\n",
    "    print(\"menopause\")"
   ]
  },
  {
   "cell_type": "code",
   "execution_count": null,
   "id": "19b4c4a0-ffb3-442d-b64b-c0fbb4801b20",
   "metadata": {},
   "outputs": [],
   "source": [
    "### nested conditional statements \n",
    "## you can place if elif else statements inside if , elif, else statement to create nested conditional statements\n",
    "## number even , odd , negative\n",
    "\n",
    "num = int(input(\"Enter the number: \"))\n",
    "\n",
    "if num >= 0:\n",
    "    print(\"The number is positive\")\n",
    "    if num % 2 == 0:\n",
    "        print(\"The number is even\")\n",
    "    else:\n",
    "        print(\"The number is odd\")\n",
    "else:\n",
    "    print(\"The number is negative\")"
   ]
  },
  {
   "cell_type": "code",
   "execution_count": 13,
   "id": "35c9c4c2-6d41-42f1-b48c-a183a54923e0",
   "metadata": {},
   "outputs": [
    {
     "name": "stdin",
     "output_type": "stream",
     "text": [
      "enter a year 2096\n"
     ]
    },
    {
     "name": "stdout",
     "output_type": "stream",
     "text": [
      "year is a leap year\n"
     ]
    }
   ],
   "source": [
    "\n",
    "### some practical example \n",
    "## you need to determine if a year is leap year \n",
    "\n",
    "\n",
    "year = int(input(\"enter a year\"))\n",
    "\n",
    "if year%4 ==0:\n",
    "     print(\"year is a leap year\")\n",
    "\n",
    "else:\n",
    "    print(\"year is not a leap year\")"
   ]
  },
  {
   "cell_type": "markdown",
   "id": "c8fa9a98-12f7-4291-babb-03c9a2fddc61",
   "metadata": {},
   "source": [
    "## LOOPS\n",
    "1. for loop\n",
    "2. while loop\n",
    "3. loop control statements\n",
    "4. nested loop\n",
    "5. practical example and common errors"
   ]
  },
  {
   "cell_type": "code",
   "execution_count": 15,
   "id": "f6b86059-a661-4c72-8af7-45071beea470",
   "metadata": {},
   "outputs": [
    {
     "data": {
      "text/plain": [
       "range(0, 5)"
      ]
     },
     "execution_count": 15,
     "metadata": {},
     "output_type": "execute_result"
    }
   ],
   "source": [
    "range(5)"
   ]
  },
  {
   "cell_type": "markdown",
   "id": "8c4228f0-6a6b-4fe0-aa05-c9380123dcc5",
   "metadata": {},
   "source": [
    "## FOR LOOP \n",
    "A for loop is used to iterate over a sequence (such as a list, tuple, dictionary, string, or range) and\n",
    "execute a block of code for each element in the sequence.\n"
   ]
  },
  {
   "cell_type": "code",
   "execution_count": 16,
   "id": "91e80754-ec2d-46c4-b452-c40fd6f09660",
   "metadata": {},
   "outputs": [
    {
     "name": "stdout",
     "output_type": "stream",
     "text": [
      "0\n",
      "1\n",
      "2\n",
      "3\n",
      "4\n"
     ]
    }
   ],
   "source": [
    "for i in range(5):\n",
    "    print(i)"
   ]
  },
  {
   "cell_type": "code",
   "execution_count": 1,
   "id": "b7fbf5e1-9232-437e-b917-6ea59e6ec64d",
   "metadata": {},
   "outputs": [
    {
     "name": "stdout",
     "output_type": "stream",
     "text": [
      "k\n",
      "e\n",
      "s\n",
      "h\n",
      "a\n",
      "v\n"
     ]
    }
   ],
   "source": [
    "\n",
    "for a in \"keshav\":\n",
    "    print(a)"
   ]
  },
  {
   "cell_type": "markdown",
   "id": "471ec593-4caa-457f-822f-071f0323bc3a",
   "metadata": {},
   "source": [
    "## While loop \n"
   ]
  },
  {
   "cell_type": "code",
   "execution_count": 2,
   "id": "6db35d6a-f09f-46e7-aac9-46d180052f99",
   "metadata": {},
   "outputs": [
    {
     "name": "stdout",
     "output_type": "stream",
     "text": [
      "0\n",
      "1\n",
      "2\n",
      "3\n",
      "4\n",
      "5\n",
      "6\n",
      "7\n",
      "8\n",
      "9\n"
     ]
    }
   ],
   "source": [
    "i=0 \n",
    "while i<10:\n",
    "    print(i)\n",
    "    i +=1"
   ]
  },
  {
   "cell_type": "code",
   "execution_count": null,
   "id": "62d46595-a03b-42c1-a5be-508c8ec74d11",
   "metadata": {},
   "outputs": [],
   "source": []
  },
  {
   "cell_type": "code",
   "execution_count": null,
   "id": "c984aebd-74af-4949-a1f7-0dd76eddd315",
   "metadata": {},
   "outputs": [],
   "source": []
  },
  {
   "cell_type": "code",
   "execution_count": null,
   "id": "ae70d826-ae59-4d91-aa1b-ab679ca90ca0",
   "metadata": {},
   "outputs": [],
   "source": []
  },
  {
   "cell_type": "code",
   "execution_count": null,
   "id": "9f079613-3dd2-490d-ad4d-3e261281f9ce",
   "metadata": {},
   "outputs": [],
   "source": []
  },
  {
   "cell_type": "code",
   "execution_count": null,
   "id": "146a38db-3ac2-47eb-bf18-19fa4bee181d",
   "metadata": {},
   "outputs": [],
   "source": []
  },
  {
   "cell_type": "code",
   "execution_count": null,
   "id": "9b679b95-f913-476f-8989-8642bd18a996",
   "metadata": {},
   "outputs": [],
   "source": []
  },
  {
   "cell_type": "code",
   "execution_count": null,
   "id": "bd3b7d6c-5f23-4a98-9833-e86d6e279b81",
   "metadata": {},
   "outputs": [],
   "source": []
  },
  {
   "cell_type": "code",
   "execution_count": null,
   "id": "362d1b44-c5e9-47a4-a22b-4cad7bbb3bb4",
   "metadata": {},
   "outputs": [],
   "source": []
  },
  {
   "cell_type": "code",
   "execution_count": null,
   "id": "1cea6ee0-aa06-4506-9b07-10b1e03d99b0",
   "metadata": {},
   "outputs": [],
   "source": []
  },
  {
   "cell_type": "code",
   "execution_count": null,
   "id": "3b62a2c0-3850-49f9-8df7-7be6e5e71fd5",
   "metadata": {},
   "outputs": [],
   "source": []
  },
  {
   "cell_type": "code",
   "execution_count": null,
   "id": "af57db7c-c37a-48df-93d6-52507c76d0f1",
   "metadata": {},
   "outputs": [],
   "source": []
  },
  {
   "cell_type": "code",
   "execution_count": null,
   "id": "d609517b-0cf4-499a-baf1-f29c9b210ac4",
   "metadata": {},
   "outputs": [],
   "source": []
  },
  {
   "cell_type": "code",
   "execution_count": null,
   "id": "f2e7d614-7912-452b-9632-f2b6bea58b6a",
   "metadata": {},
   "outputs": [],
   "source": []
  },
  {
   "cell_type": "code",
   "execution_count": null,
   "id": "c68d165c-6edd-4825-ae29-f8323bc75c92",
   "metadata": {},
   "outputs": [],
   "source": []
  },
  {
   "cell_type": "code",
   "execution_count": null,
   "id": "58aa08e7-be8a-4a38-bd48-9aca07947fa5",
   "metadata": {},
   "outputs": [],
   "source": []
  },
  {
   "cell_type": "code",
   "execution_count": null,
   "id": "df4ae481-9aab-4156-ac14-36b8b2a062b0",
   "metadata": {},
   "outputs": [],
   "source": []
  },
  {
   "cell_type": "code",
   "execution_count": null,
   "id": "61a8b156-573c-4214-81e9-972112b719fb",
   "metadata": {},
   "outputs": [],
   "source": []
  }
 ],
 "metadata": {
  "kernelspec": {
   "display_name": "Python 3 (ipykernel)",
   "language": "python",
   "name": "python3"
  },
  "language_info": {
   "codemirror_mode": {
    "name": "ipython",
    "version": 3
   },
   "file_extension": ".py",
   "mimetype": "text/x-python",
   "name": "python",
   "nbconvert_exporter": "python",
   "pygments_lexer": "ipython3",
   "version": "3.12.4"
  }
 },
 "nbformat": 4,
 "nbformat_minor": 5
}
